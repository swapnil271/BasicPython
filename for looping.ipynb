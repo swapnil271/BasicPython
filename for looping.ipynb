{
 "cells": [
  {
   "cell_type": "code",
   "execution_count": 6,
   "metadata": {},
   "outputs": [],
   "source": [
    "custmer = ['A','B','C','D','E']\n",
    "orderid = [201,202,203,204,205]\n",
    "sales =  [17000,23000,19000,20000,25000]\n"
   ]
  },
  {
   "cell_type": "code",
   "execution_count": 8,
   "metadata": {},
   "outputs": [
    {
     "name": "stdout",
     "output_type": "stream",
     "text": [
      "Dear Custmer A , your order id is 201 and price is 17000 rupess\n",
      "Dear Custmer B , your order id is 202 and price is 23000 rupess\n",
      "Dear Custmer C , your order id is 203 and price is 19000 rupess\n",
      "Dear Custmer D , your order id is 204 and price is 20000 rupess\n",
      "Dear Custmer E , your order id is 205 and price is 25000 rupess\n"
     ]
    }
   ],
   "source": [
    "import itertools\n",
    "for (c,o,s) in zip(custmer, orderid, sales):\n",
    "    print('Dear Custmer', c, ',', 'your order id is', o, 'and price is', s, 'rupess')"
   ]
  },
  {
   "cell_type": "code",
   "execution_count": null,
   "metadata": {},
   "outputs": [],
   "source": []
  }
 ],
 "metadata": {
  "kernelspec": {
   "display_name": "Python 3",
   "language": "python",
   "name": "python3"
  },
  "language_info": {
   "codemirror_mode": {
    "name": "ipython",
    "version": 3
   },
   "file_extension": ".py",
   "mimetype": "text/x-python",
   "name": "python",
   "nbconvert_exporter": "python",
   "pygments_lexer": "ipython3",
   "version": "3.7.3"
  }
 },
 "nbformat": 4,
 "nbformat_minor": 2
}
