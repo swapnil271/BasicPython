{
 "cells": [
  {
   "cell_type": "code",
   "execution_count": 4,
   "metadata": {},
   "outputs": [
    {
     "name": "stdout",
     "output_type": "stream",
     "text": [
      "Total Coupouns left is: 5\n",
      "Total Coupouns left is: 4\n",
      "Total Coupouns left is: 3\n",
      "Total Coupouns left is: 2\n",
      "Total Coupouns left is: 1\n",
      "Total Coupouns left is: 0\n",
      "No coupouns left\n"
     ]
    }
   ],
   "source": [
    "total_coupoun = 5\n",
    "coupouns_utilized = 0\n",
    "while coupouns_utilized<6:\n",
    "    print('Total Coupouns left is:' + \" \"+ str(total_coupoun-coupouns_utilized))\n",
    "    coupouns_utilized = coupouns_utilized+1\n",
    "print('No coupouns left')"
   ]
  }
 ],
 "metadata": {
  "kernelspec": {
   "display_name": "Python 3",
   "language": "python",
   "name": "python3"
  },
  "language_info": {
   "codemirror_mode": {
    "name": "ipython",
    "version": 3
   },
   "file_extension": ".py",
   "mimetype": "text/x-python",
   "name": "python",
   "nbconvert_exporter": "python",
   "pygments_lexer": "ipython3",
   "version": "3.7.3"
  }
 },
 "nbformat": 4,
 "nbformat_minor": 2
}
